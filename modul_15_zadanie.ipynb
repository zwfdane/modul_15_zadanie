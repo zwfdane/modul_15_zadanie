{
 "cells": [
  {
   "cell_type": "markdown",
   "id": "8c14a69a",
   "metadata": {},
   "source": [
    "## Moduł 15 - zadania "
   ]
  },
  {
   "cell_type": "markdown",
   "id": "b6540940",
   "metadata": {},
   "source": [
    "Wybierz zbiór danych z tych, które wykorzystywane były w module o regresji lub klasyfikacji. Dla któregoś z tych zbiorów stwórz Pipeline, w którym zawrzesz proces przygotowania danych i naucz nowy model, porównując go z tymi stworzonymi w tamtych modułach.\n",
    "\n",
    "Dla stworzonego wcześniej Pipeline’a wybierz najlepsze hiperparametry na podstawie podzbiorów walidacyjnych i siatki hiperparametrów (skorzystaj z GridSearch)."
   ]
  },
  {
   "cell_type": "code",
   "execution_count": 1,
   "id": "677c7d34",
   "metadata": {},
   "outputs": [],
   "source": [
    "# manipulacja danymi\n",
    "import numpy as np\n",
    "import pandas as pd\n",
    "\n",
    "# wizualizacja\n",
    "import matplotlib.pyplot as plt\n",
    "import seaborn as sns\n",
    "\n",
    "# podział danych na zbiory treningowe/walidacyjne/testowe\n",
    "from sklearn.model_selection import train_test_split, GridSearchCV\n",
    "\n",
    "# budowa Pipeline\n",
    "from sklearn.pipeline import FeatureUnion, Pipeline\n",
    "from sklearn.base import BaseEstimator, TransformerMixin\n",
    "from sklearn.compose import ColumnTransformer\n",
    "\n",
    "# Preprocessing\n",
    "from sklearn.impute import SimpleImputer\n",
    "from sklearn.preprocessing import OneHotEncoder, StandardScaler, PolynomialFeatures, PowerTransformer\n",
    "\n",
    "# ewaluacja\n",
    "from sklearn.metrics import classification_report, confusion_matrix, roc_curve, f1_score, roc_auc_score\n",
    "\n"
   ]
  },
  {
   "cell_type": "code",
   "execution_count": 7,
   "id": "3e0757da",
   "metadata": {},
   "outputs": [],
   "source": [
    "diabetes = pd.read_csv('diabetes.csv')"
   ]
  },
  {
   "cell_type": "code",
   "execution_count": 8,
   "id": "76190f4f",
   "metadata": {},
   "outputs": [
    {
     "name": "stdout",
     "output_type": "stream",
     "text": [
      "X:\n"
     ]
    },
    {
     "data": {
      "text/html": [
       "<div>\n",
       "<style scoped>\n",
       "    .dataframe tbody tr th:only-of-type {\n",
       "        vertical-align: middle;\n",
       "    }\n",
       "\n",
       "    .dataframe tbody tr th {\n",
       "        vertical-align: top;\n",
       "    }\n",
       "\n",
       "    .dataframe thead th {\n",
       "        text-align: right;\n",
       "    }\n",
       "</style>\n",
       "<table border=\"1\" class=\"dataframe\">\n",
       "  <thead>\n",
       "    <tr style=\"text-align: right;\">\n",
       "      <th></th>\n",
       "      <th>Pregnancies</th>\n",
       "      <th>PlasmaGlucose</th>\n",
       "      <th>DiastolicBloodPressure</th>\n",
       "      <th>TricepsThickness</th>\n",
       "      <th>SerumInsulin</th>\n",
       "      <th>BMI</th>\n",
       "      <th>DiabetesPedigree</th>\n",
       "      <th>Age</th>\n",
       "    </tr>\n",
       "  </thead>\n",
       "  <tbody>\n",
       "    <tr>\n",
       "      <th>0</th>\n",
       "      <td>0</td>\n",
       "      <td>171</td>\n",
       "      <td>80</td>\n",
       "      <td>34</td>\n",
       "      <td>23</td>\n",
       "      <td>43.509726</td>\n",
       "      <td>1.213191</td>\n",
       "      <td>21</td>\n",
       "    </tr>\n",
       "    <tr>\n",
       "      <th>1</th>\n",
       "      <td>8</td>\n",
       "      <td>92</td>\n",
       "      <td>93</td>\n",
       "      <td>47</td>\n",
       "      <td>36</td>\n",
       "      <td>21.240576</td>\n",
       "      <td>0.158365</td>\n",
       "      <td>23</td>\n",
       "    </tr>\n",
       "    <tr>\n",
       "      <th>2</th>\n",
       "      <td>7</td>\n",
       "      <td>115</td>\n",
       "      <td>47</td>\n",
       "      <td>52</td>\n",
       "      <td>35</td>\n",
       "      <td>41.511523</td>\n",
       "      <td>0.079019</td>\n",
       "      <td>23</td>\n",
       "    </tr>\n",
       "    <tr>\n",
       "      <th>3</th>\n",
       "      <td>9</td>\n",
       "      <td>103</td>\n",
       "      <td>78</td>\n",
       "      <td>25</td>\n",
       "      <td>304</td>\n",
       "      <td>29.582192</td>\n",
       "      <td>1.282870</td>\n",
       "      <td>43</td>\n",
       "    </tr>\n",
       "    <tr>\n",
       "      <th>4</th>\n",
       "      <td>1</td>\n",
       "      <td>85</td>\n",
       "      <td>59</td>\n",
       "      <td>27</td>\n",
       "      <td>35</td>\n",
       "      <td>42.604536</td>\n",
       "      <td>0.549542</td>\n",
       "      <td>22</td>\n",
       "    </tr>\n",
       "    <tr>\n",
       "      <th>...</th>\n",
       "      <td>...</td>\n",
       "      <td>...</td>\n",
       "      <td>...</td>\n",
       "      <td>...</td>\n",
       "      <td>...</td>\n",
       "      <td>...</td>\n",
       "      <td>...</td>\n",
       "      <td>...</td>\n",
       "    </tr>\n",
       "    <tr>\n",
       "      <th>14995</th>\n",
       "      <td>10</td>\n",
       "      <td>65</td>\n",
       "      <td>60</td>\n",
       "      <td>46</td>\n",
       "      <td>177</td>\n",
       "      <td>33.512468</td>\n",
       "      <td>0.148327</td>\n",
       "      <td>41</td>\n",
       "    </tr>\n",
       "    <tr>\n",
       "      <th>14996</th>\n",
       "      <td>2</td>\n",
       "      <td>73</td>\n",
       "      <td>66</td>\n",
       "      <td>27</td>\n",
       "      <td>168</td>\n",
       "      <td>30.132636</td>\n",
       "      <td>0.862252</td>\n",
       "      <td>38</td>\n",
       "    </tr>\n",
       "    <tr>\n",
       "      <th>14997</th>\n",
       "      <td>0</td>\n",
       "      <td>93</td>\n",
       "      <td>89</td>\n",
       "      <td>43</td>\n",
       "      <td>57</td>\n",
       "      <td>18.690683</td>\n",
       "      <td>0.427049</td>\n",
       "      <td>24</td>\n",
       "    </tr>\n",
       "    <tr>\n",
       "      <th>14998</th>\n",
       "      <td>0</td>\n",
       "      <td>132</td>\n",
       "      <td>98</td>\n",
       "      <td>18</td>\n",
       "      <td>161</td>\n",
       "      <td>19.791645</td>\n",
       "      <td>0.302257</td>\n",
       "      <td>23</td>\n",
       "    </tr>\n",
       "    <tr>\n",
       "      <th>14999</th>\n",
       "      <td>3</td>\n",
       "      <td>114</td>\n",
       "      <td>65</td>\n",
       "      <td>47</td>\n",
       "      <td>512</td>\n",
       "      <td>36.215437</td>\n",
       "      <td>0.147363</td>\n",
       "      <td>34</td>\n",
       "    </tr>\n",
       "  </tbody>\n",
       "</table>\n",
       "<p>15000 rows × 8 columns</p>\n",
       "</div>"
      ],
      "text/plain": [
       "       Pregnancies  PlasmaGlucose  DiastolicBloodPressure  TricepsThickness  \\\n",
       "0                0            171                      80                34   \n",
       "1                8             92                      93                47   \n",
       "2                7            115                      47                52   \n",
       "3                9            103                      78                25   \n",
       "4                1             85                      59                27   \n",
       "...            ...            ...                     ...               ...   \n",
       "14995           10             65                      60                46   \n",
       "14996            2             73                      66                27   \n",
       "14997            0             93                      89                43   \n",
       "14998            0            132                      98                18   \n",
       "14999            3            114                      65                47   \n",
       "\n",
       "       SerumInsulin        BMI  DiabetesPedigree  Age  \n",
       "0                23  43.509726          1.213191   21  \n",
       "1                36  21.240576          0.158365   23  \n",
       "2                35  41.511523          0.079019   23  \n",
       "3               304  29.582192          1.282870   43  \n",
       "4                35  42.604536          0.549542   22  \n",
       "...             ...        ...               ...  ...  \n",
       "14995           177  33.512468          0.148327   41  \n",
       "14996           168  30.132636          0.862252   38  \n",
       "14997            57  18.690683          0.427049   24  \n",
       "14998           161  19.791645          0.302257   23  \n",
       "14999           512  36.215437          0.147363   34  \n",
       "\n",
       "[15000 rows x 8 columns]"
      ]
     },
     "metadata": {},
     "output_type": "display_data"
    },
    {
     "name": "stdout",
     "output_type": "stream",
     "text": [
      "\n",
      "y:\n"
     ]
    },
    {
     "data": {
      "text/plain": [
       "0        0\n",
       "1        0\n",
       "2        0\n",
       "3        1\n",
       "4        0\n",
       "        ..\n",
       "14995    1\n",
       "14996    1\n",
       "14997    0\n",
       "14998    0\n",
       "14999    1\n",
       "Name: Diabetic, Length: 15000, dtype: int64"
      ]
     },
     "metadata": {},
     "output_type": "display_data"
    }
   ],
   "source": [
    "features = ['Pregnancies','PlasmaGlucose','DiastolicBloodPressure','TricepsThickness','SerumInsulin','BMI','DiabetesPedigree','Age']\n",
    "target = 'Diabetic'\n",
    "X, y = diabetes[features], diabetes[target]\n",
    "print('X:')\n",
    "display(X)\n",
    "print('\\ny:')\n",
    "display(y)"
   ]
  },
  {
   "cell_type": "markdown",
   "id": "656f95d5",
   "metadata": {},
   "source": [
    "EAD została przeprowadzona w module 14. \n",
    "\n",
    "Teraz podzielimy zbiór na część treningową i testową. Przyjmiemy parametr stratify = y w celu odwzorowania struktury estymatora do struktury populacji. Przypomnijmy, że około 1/3 badanych kobiet zachorowała na cukrzycę. "
   ]
  },
  {
   "cell_type": "code",
   "execution_count": 4,
   "id": "a8636692",
   "metadata": {},
   "outputs": [
    {
     "name": "stdout",
     "output_type": "stream",
     "text": [
      "Treningowe obserwacje: 10500\n",
      "Testowe obserwacje: 4500\n"
     ]
    }
   ],
   "source": [
    "from sklearn.model_selection import train_test_split\n",
    "\n",
    "X_train, X_test, y_train, y_test = train_test_split(X[['Pregnancies', 'Age']], y, test_size=0.30, random_state=0, stratify=y)\n",
    "print ('Treningowe obserwacje: %d\\nTestowe obserwacje: %d' % (X_train.shape[0], X_test.shape[0]))"
   ]
  },
  {
   "cell_type": "markdown",
   "id": "1376573d",
   "metadata": {},
   "source": [
    "# SVM - wersja liniowa"
   ]
  },
  {
   "cell_type": "markdown",
   "id": "6982a13a",
   "metadata": {},
   "source": [
    "## Transformacja i klasyfikacja danych  "
   ]
  },
  {
   "cell_type": "markdown",
   "id": "ef556338",
   "metadata": {},
   "source": [
    "Rozpoczniemy od standaryzacji danych i zastosowania klasyfikacji"
   ]
  },
  {
   "cell_type": "code",
   "execution_count": 5,
   "id": "84b285b6",
   "metadata": {},
   "outputs": [],
   "source": [
    "from sklearn.svm import SVC\n",
    "from sklearn.preprocessing import StandardScaler\n",
    "\n",
    "pipeline = Pipeline([\n",
    "    (\"scaler\",StandardScaler()), # transformacja \n",
    "    (\"SVM\", SVC()), # klasyfikacja\n",
    "   ])\n"
   ]
  },
  {
   "cell_type": "markdown",
   "id": "76268419",
   "metadata": {},
   "source": [
    "W przypadku jądra maszyn nośnych wyróżniamy dwa hiperparametry: C i $\\gamma$. Algorytm SVC tworzy granice decyzyjności na podstwie której przyporządkowuje obserwacje do dwóch lub więcej klas.\n",
    "\n",
    "Parametr $C$ dodaje karę za każdy źle sklasyfikowany punkt. \n",
    "\n",
    "    + Jeśli wartość $C$ jest mała, to kara za źle sklasyfikowane punkty jest niska, a co za tym idzie granica decyzyjności ma duży margines. Kosztem jest większa ilość obserwacji źle sklasyfikowanych.  \n",
    "    + Jeśli wartość $C$ jest duża, to kara za źle sklasyfikowane punkty jest wysoka. Algorytm SVM próbuje minimalizować liczbę źle sklasyfikowanych przykładów, co przekłada się na granicę decyzyjności z mniejszym marginesem. \n",
    "    \n",
    "Kara za źle sklasyfikowane dane nie jest taka sama dla wszytskich obserwacji: jest wprost proporcjonalna do odległości obserwacji od granicy decyzyjności. \n",
    "\n",
    "Drugim hiperparametrem modelu SVM jest $\\gamma$. Jest on użyty w tzw. (Gaussowskiej) radialnej funkcji bazowej (radial basis function (RBF)). Przypomnijmy postać RBF:\n",
    "\n",
    "$$ \\phi(\\mathbf{x},\\ell)= \\exp (-\\gamma \\| \\mathbf{x}-\\ell \\|^2 )$$\n",
    "\n",
    "Jeżeli wartość $\\gamma$ jest wysoka, to punkty muszą znajdować się bardzo blisko siebie, żeby być zaliczone do tej samej klasy. Powoduje to skłonność modelu do przetrenowania. \n",
    "\n",
    "Dostroimy model wykorzystując metodę przeszukiwania siatki. Rozpoczniemy od zdefiniowania słownika z wartościami parametrów:\n",
    "\n"
   ]
  },
  {
   "cell_type": "code",
   "execution_count": 6,
   "id": "6526f8e7",
   "metadata": {},
   "outputs": [],
   "source": [
    "# parameteres = {'SVM__C':[0.001,0.1,10,100,10e5], 'SVM__gamma':[0.1,0.01]}\n",
    "parameteres = {'SVM__C':[0.001,0.1,10,100], 'SVM__gamma':[0.1,0.01]}"
   ]
  },
  {
   "cell_type": "markdown",
   "id": "d9abe442",
   "metadata": {},
   "source": [
    "# Dostrajanie modelu"
   ]
  },
  {
   "cell_type": "markdown",
   "id": "0a6afcd5",
   "metadata": {},
   "source": [
    "Przejdziemy teraz do dostrajania modelu metodą przeszukiwania siatki. "
   ]
  },
  {
   "cell_type": "code",
   "execution_count": 7,
   "id": "79c4308c",
   "metadata": {},
   "outputs": [
    {
     "data": {
      "text/plain": [
       "GridSearchCV(cv=3,\n",
       "             estimator=Pipeline(steps=[('scaler', StandardScaler()),\n",
       "                                       ('SVM', SVC())]),\n",
       "             param_grid={'SVM__C': [0.001, 0.1, 10, 100],\n",
       "                         'SVM__gamma': [0.1, 0.01]})"
      ]
     },
     "execution_count": 7,
     "metadata": {},
     "output_type": "execute_result"
    }
   ],
   "source": [
    "grid = GridSearchCV(pipeline, param_grid=parameteres, cv=3)\n",
    "grid.fit(X_train, y_train)"
   ]
  },
  {
   "cell_type": "markdown",
   "id": "f4195cf0",
   "metadata": {},
   "source": [
    "Wypisanie wartości najlepszych parametrów wskazanych przez metodę przeszukiwania siatki"
   ]
  },
  {
   "cell_type": "code",
   "execution_count": 8,
   "id": "09910fa6",
   "metadata": {},
   "outputs": [
    {
     "name": "stdout",
     "output_type": "stream",
     "text": [
      "{'SVM__C': 100, 'SVM__gamma': 0.1}\n"
     ]
    }
   ],
   "source": [
    "print(grid.best_params_)"
   ]
  },
  {
   "cell_type": "markdown",
   "id": "6f52cf31",
   "metadata": {},
   "source": [
    "Zadanie polega na klasyfikacji pacjenta jako chorego na cukrzycę bądź nie. Zatem wartość odpowiedzi modelu powinna wynosić zero lub jeden:"
   ]
  },
  {
   "cell_type": "code",
   "execution_count": 9,
   "id": "e9b88b05",
   "metadata": {},
   "outputs": [],
   "source": [
    "y_pred = grid.predict(X_test)\n",
    "y_pred = np.round(y_pred, decimals=0)"
   ]
  },
  {
   "cell_type": "markdown",
   "id": "49bef5ba",
   "metadata": {},
   "source": [
    "# Macierz pomyłek"
   ]
  },
  {
   "cell_type": "markdown",
   "id": "2f8f1758",
   "metadata": {},
   "source": [
    "Macierz wskazuje na ile model trafnie typuje odpowiedzi. Wyświetlimy macierz pomyłek."
   ]
  },
  {
   "cell_type": "code",
   "execution_count": 11,
   "id": "ae3752e9",
   "metadata": {},
   "outputs": [
    {
     "name": "stdout",
     "output_type": "stream",
     "text": [
      "[[2703  297]\n",
      " [ 329 1171]]\n"
     ]
    },
    {
     "name": "stderr",
     "output_type": "stream",
     "text": [
      "C:\\Users\\zfech\\AppData\\Local\\Temp\\ipykernel_3100\\1668408196.py:9: UserWarning: FixedFormatter should only be used together with FixedLocator\n",
      "  ax.set_xticklabels([''])\n",
      "C:\\Users\\zfech\\AppData\\Local\\Temp\\ipykernel_3100\\1668408196.py:10: UserWarning: FixedFormatter should only be used together with FixedLocator\n",
      "  ax.set_yticklabels([''])\n"
     ]
    },
    {
     "data": {
      "image/png": "[encoded data removed]",
      "text/plain": [
       "<Figure size 432x288 with 2 Axes>"
      ]
     },
     "metadata": {
      "needs_background": "light"
     },
     "output_type": "display_data"
    }
   ],
   "source": [
    "from sklearn.metrics import classification_report, confusion_matrix\n",
    "cm = confusion_matrix(y_test, y_pred)\n",
    "print(cm)\n",
    "fig = plt.figure()\n",
    "ax = fig.add_subplot(111)\n",
    "cax = ax.matshow(cm)\n",
    "plt.title('Confusion matrix of the classifier')\n",
    "fig.colorbar(cax)\n",
    "ax.set_xticklabels([''])\n",
    "ax.set_yticklabels([''])\n",
    "plt.xlabel('Predicted')\n",
    "plt.ylabel('True')\n",
    "plt.show()\n",
    "\n"
   ]
  },
  {
   "cell_type": "code",
   "execution_count": 12,
   "id": "5f81f82b",
   "metadata": {},
   "outputs": [
    {
     "name": "stdout",
     "output_type": "stream",
     "text": [
      "              precision    recall  f1-score   support\n",
      "\n",
      "           0       0.89      0.90      0.90      3000\n",
      "           1       0.80      0.78      0.79      1500\n",
      "\n",
      "    accuracy                           0.86      4500\n",
      "   macro avg       0.84      0.84      0.84      4500\n",
      "weighted avg       0.86      0.86      0.86      4500\n",
      "\n"
     ]
    }
   ],
   "source": [
    "print(classification_report(y_test, y_pred)) "
   ]
  },
  {
   "cell_type": "markdown",
   "id": "1e335fbc",
   "metadata": {},
   "source": [
    "Wnioski:\n",
    "\n",
    "    1. Model wykazuje wysoką dokładność (86%)\n",
    "    2. W zbiorze treningowycm około 1/3 obserwacji ma cechę (chory na cukrzycę). Zbiór nie jest zbalansowany, więc bierzemy pod uwagę średnie ważone. W tym przypadku wszystke miary dokładności są równe i wynoszą 86%.\n",
    "    3. Miary nie uwzględniające wag sa na poziomie 84%.\n"
   ]
  },
  {
   "cell_type": "markdown",
   "id": "5b4aae16",
   "metadata": {},
   "source": [
    "# PCA"
   ]
  },
  {
   "cell_type": "markdown",
   "id": "45618a0c",
   "metadata": {},
   "source": [
    "Zastosujemy najpierw metodę PCA dla dwóch składowych głównych"
   ]
  },
  {
   "cell_type": "code",
   "execution_count": 11,
   "id": "373b679b",
   "metadata": {},
   "outputs": [
    {
     "data": {
      "text/plain": [
       "StandardScaler()"
      ]
     },
     "execution_count": 11,
     "metadata": {},
     "output_type": "execute_result"
    }
   ],
   "source": [
    "from sklearn.decomposition import PCA\n",
    "\n",
    "scaler = StandardScaler()\n",
    "scaler.fit(X)\n",
    "\n"
   ]
  },
  {
   "cell_type": "code",
   "execution_count": 12,
   "id": "53b95a9f",
   "metadata": {},
   "outputs": [],
   "source": [
    "scaled_data = scaler.transform(X)"
   ]
  },
  {
   "cell_type": "code",
   "execution_count": 13,
   "id": "bbb5f014",
   "metadata": {},
   "outputs": [],
   "source": [
    "from sklearn.decomposition import PCA"
   ]
  },
  {
   "cell_type": "code",
   "execution_count": 14,
   "id": "9447038c",
   "metadata": {},
   "outputs": [],
   "source": [
    "pca = PCA(n_components=2)"
   ]
  },
  {
   "cell_type": "code",
   "execution_count": 20,
   "id": "c65ad040",
   "metadata": {},
   "outputs": [
    {
     "data": {
      "text/plain": [
       "PCA(n_components=2)"
      ]
     },
     "execution_count": 20,
     "metadata": {},
     "output_type": "execute_result"
    }
   ],
   "source": [
    "pca.fit(scaled_data)"
   ]
  },
  {
   "cell_type": "code",
   "execution_count": 21,
   "id": "eade39f4",
   "metadata": {},
   "outputs": [],
   "source": [
    "x_pca = pca.transform(scaled_data)"
   ]
  },
  {
   "cell_type": "code",
   "execution_count": 23,
   "id": "d3ff0f7c",
   "metadata": {},
   "outputs": [
    {
     "data": {
      "text/plain": [
       "array([0.1696251 , 0.12629706])"
      ]
     },
     "execution_count": 23,
     "metadata": {},
     "output_type": "execute_result"
    }
   ],
   "source": [
    "pca.explained_variance_ratio_"
   ]
  },
  {
   "cell_type": "markdown",
   "id": "9a6c92db",
   "metadata": {},
   "source": [
    "Zastosujemy metodę PCA, która wyjasnia ponad 90 procent zmienności wariancji"
   ]
  },
  {
   "cell_type": "code",
   "execution_count": 27,
   "id": "34080a93",
   "metadata": {},
   "outputs": [],
   "source": [
    "pca90 = PCA(n_components=0.90)"
   ]
  },
  {
   "cell_type": "code",
   "execution_count": 28,
   "id": "a660300e",
   "metadata": {},
   "outputs": [
    {
     "data": {
      "text/plain": [
       "PCA(n_components=0.9)"
      ]
     },
     "execution_count": 28,
     "metadata": {},
     "output_type": "execute_result"
    }
   ],
   "source": [
    "pca90.fit(scaled_data)"
   ]
  },
  {
   "cell_type": "code",
   "execution_count": 35,
   "id": "c5d7c6cd",
   "metadata": {},
   "outputs": [],
   "source": [
    "x_pca_90 = pca90.transform(scaled_data)"
   ]
  },
  {
   "cell_type": "code",
   "execution_count": 36,
   "id": "99df1c9b",
   "metadata": {},
   "outputs": [
    {
     "data": {
      "text/plain": [
       "array([0.1696251 , 0.12629706, 0.12397574, 0.12203939, 0.12040256,\n",
       "       0.11756081, 0.11295178, 0.10714756])"
      ]
     },
     "execution_count": 36,
     "metadata": {},
     "output_type": "execute_result"
    }
   ],
   "source": [
    "pca90.explained_variance_ratio_"
   ]
  },
  {
   "cell_type": "code",
   "execution_count": 37,
   "id": "17de1e7b",
   "metadata": {},
   "outputs": [
    {
     "data": {
      "text/plain": [
       "1.0"
      ]
     },
     "execution_count": 37,
     "metadata": {},
     "output_type": "execute_result"
    }
   ],
   "source": [
    "sum(pca90.explained_variance_ratio_)"
   ]
  },
  {
   "cell_type": "markdown",
   "id": "e6cc19bb",
   "metadata": {},
   "source": [
    "Każda składowa wyjaśnia ponad 10% zmienności, więc żeby uzyskać ponad 90% nie jesteśmy w stanie zredukować wymiaru. Próbujemy dla 80% wyjasnionej wariancji"
   ]
  },
  {
   "cell_type": "code",
   "execution_count": 38,
   "id": "d1838a59",
   "metadata": {},
   "outputs": [],
   "source": [
    "pca80 = PCA(n_components=0.80)"
   ]
  },
  {
   "cell_type": "code",
   "execution_count": 39,
   "id": "9af3c681",
   "metadata": {},
   "outputs": [
    {
     "data": {
      "text/plain": [
       "PCA(n_components=0.8)"
      ]
     },
     "execution_count": 39,
     "metadata": {},
     "output_type": "execute_result"
    }
   ],
   "source": [
    "pca80.fit(scaled_data)"
   ]
  },
  {
   "cell_type": "code",
   "execution_count": 40,
   "id": "128f4c8d",
   "metadata": {},
   "outputs": [],
   "source": [
    "x_pca_80 = pca80.transform(scaled_data)"
   ]
  },
  {
   "cell_type": "code",
   "execution_count": 41,
   "id": "cb7ad1ef",
   "metadata": {},
   "outputs": [
    {
     "data": {
      "text/plain": [
       "array([0.1696251 , 0.12629706, 0.12397574, 0.12203939, 0.12040256,\n",
       "       0.11756081, 0.11295178])"
      ]
     },
     "execution_count": 41,
     "metadata": {},
     "output_type": "execute_result"
    }
   ],
   "source": [
    "pca80.explained_variance_ratio_"
   ]
  },
  {
   "cell_type": "code",
   "execution_count": null,
   "id": "cc692f74",
   "metadata": {},
   "outputs": [],
   "source": []
  },
  {
   "cell_type": "code",
   "execution_count": null,
   "id": "a8bdd63a",
   "metadata": {},
   "outputs": [],
   "source": []
  },
  {
   "cell_type": "code",
   "execution_count": null,
   "id": "0429d93b",
   "metadata": {},
   "outputs": [],
   "source": []
  },
  {
   "cell_type": "markdown",
   "id": "df2d2d07",
   "metadata": {},
   "source": [
    "# Wykorzystane źródła"
   ]
  },
  {
   "cell_type": "markdown",
   "id": "c127af77",
   "metadata": {},
   "source": [
    "1. www.sigmaquality.pl/uncategorized/algorytm-support-vector-machine-svm-zaliczany-jest-do-estymatorow-machine-learning-uczenia-z-nadzorem-w-oparciu-o-procesy-klasyfikacji-i-analizy-regresji-klasyfikator-svm-wykorzystuje-algorytm-optyma/\n",
    "\n",
    "2. https://towardsdatascience.com/hyperparameter-tuning-for-support-vector-machines-c-and-gamma-parameters-6a5097416167"
   ]
  }
 ],
 "metadata": {
  "kernelspec": {
   "display_name": "Python 3 (ipykernel)",
   "language": "python",
   "name": "python3"
  },
  "language_info": {
   "codemirror_mode": {
    "name": "ipython",
    "version": 3
   },
   "file_extension": ".py",
   "mimetype": "text/x-python",
   "name": "python",
   "nbconvert_exporter": "python",
   "pygments_lexer": "ipython3",
   "version": "3.9.12"
  }
 },
 "nbformat": 4,
 "nbformat_minor": 5
}
